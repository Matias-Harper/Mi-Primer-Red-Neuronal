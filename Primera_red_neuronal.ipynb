{
  "nbformat": 4,
  "nbformat_minor": 0,
  "metadata": {
    "colab": {
      "provenance": [],
      "authorship_tag": "ABX9TyN4hB+UcoxlVWEMBWk/U39c",
      "include_colab_link": true
    },
    "kernelspec": {
      "name": "python3",
      "display_name": "Python 3"
    },
    "language_info": {
      "name": "python"
    }
  },
  "cells": [
    {
      "cell_type": "markdown",
      "metadata": {
        "id": "view-in-github",
        "colab_type": "text"
      },
      "source": [
        "<a href=\"https://colab.research.google.com/github/Matias-Harper/Mi-Primer-Red-Neuronal/blob/main/Primera_red_neuronal.ipynb\" target=\"_parent\"><img src=\"https://colab.research.google.com/assets/colab-badge.svg\" alt=\"Open In Colab\"/></a>"
      ]
    },
    {
      "cell_type": "markdown",
      "source": [
        "#Primer Red Neuronal\n",
        "Un código simple que muestra dos modelos de red neuronal que nos permita predecir el valor en grados Fahrenheit de temperaturas en grados Celsius     \n",
        "\n",
        "link de doc con mayor detalle: https://docs.google.com/document/d/15V28xwcbBj6dXjSetev0afWn7YXddGSJADRn-UmSTFE/edit?usp=sharing"
      ],
      "metadata": {
        "id": "0rl0YRBxZwd-"
      }
    },
    {
      "cell_type": "code",
      "execution_count": 6,
      "metadata": {
        "id": "9sIKEXgtE0WU"
      },
      "outputs": [],
      "source": [
        "import tensorflow as tf\n",
        "import numpy as np"
      ]
    },
    {
      "cell_type": "markdown",
      "source": [
        "Importamos las librerias necesarias para poder hacer la red neuronal"
      ],
      "metadata": {
        "id": "WiglLPQ6FSjD"
      }
    },
    {
      "cell_type": "code",
      "source": [
        "celsius = np.array([-40,-10,0,8,15,22,38], dtype=float)\n",
        "fahren = np.array([-40,14,32,46,59,72,100], dtype=float)"
      ],
      "metadata": {
        "id": "8AKawEQIE-cq"
      },
      "execution_count": 9,
      "outputs": []
    },
    {
      "cell_type": "code",
      "source": [
        "capa = tf.keras.layers.Dense(units=1, input_shape=[1])\n",
        "modelo = tf.keras.Sequential([capa])"
      ],
      "metadata": {
        "id": "HU20n_dgFtwR"
      },
      "execution_count": 10,
      "outputs": []
    },
    {
      "cell_type": "code",
      "source": [
        "modelo.compile(\n",
        "    optimizer = tf.keras.optimizers.Adam(0.1),\n",
        "    loss=\"mean_squared_error\")"
      ],
      "metadata": {
        "id": "cdIjCCDfLvgb"
      },
      "execution_count": 18,
      "outputs": []
    },
    {
      "cell_type": "code",
      "source": [
        "print(\"Comenzamos el entrenamiento del modelo\")\n",
        "historial = modelo.fit(celsius,fahren,epochs=1000, verbose=False)\n",
        "print(\"fin de entrenamiento\")"
      ],
      "metadata": {
        "colab": {
          "base_uri": "https://localhost:8080/"
        },
        "id": "WkZDZCI9P4nB",
        "outputId": "885dc491-84eb-47d3-caeb-e454e641974c"
      },
      "execution_count": 19,
      "outputs": [
        {
          "output_type": "stream",
          "name": "stdout",
          "text": [
            "Comenzamos el entrenamiento del modelo\n",
            "fin de entrenamiento\n"
          ]
        }
      ]
    },
    {
      "cell_type": "markdown",
      "source": [
        "Ahora podemos ver el desempeño y caan cerca o lejos se contro en cada intento de los resultados aportados "
      ],
      "metadata": {
        "id": "8kVpIHagSecC"
      }
    },
    {
      "cell_type": "code",
      "source": [
        "import matplotlib.pyplot as plt\n",
        "plt.xlabel(\"# Epoca\")\n",
        "plt.ylabel(\"Magnitud de pérdida\")\n",
        "plt.plot(historial.history[\"loss\"])"
      ],
      "metadata": {
        "colab": {
          "base_uri": "https://localhost:8080/",
          "height": 297
        },
        "id": "YDSzt40zRM5e",
        "outputId": "2b72f4fe-cb08-4c0d-bd35-f770af2a831f"
      },
      "execution_count": 20,
      "outputs": [
        {
          "output_type": "execute_result",
          "data": {
            "text/plain": [
              "[<matplotlib.lines.Line2D at 0x7f2dfad289d0>]"
            ]
          },
          "metadata": {},
          "execution_count": 20
        },
        {
          "output_type": "display_data",
          "data": {
            "text/plain": [
              "<Figure size 432x288 with 1 Axes>"
            ],
            "image/png": "[encoded data removed]"
          },
          "metadata": {
            "needs_background": "light"
          }
        }
      ]
    },
    {
      "cell_type": "markdown",
      "source": [
        "Timpo de probar el modelo"
      ],
      "metadata": {
        "id": "cUBG68ZOSm1h"
      }
    },
    {
      "cell_type": "code",
      "source": [
        "print(\"Ahora realicemos una prediccion\")\n",
        "resultado = modelo.predict([100.0])\n",
        "print(\"El resultado es \", resultado,\" Fahrenheit\")"
      ],
      "metadata": {
        "colab": {
          "base_uri": "https://localhost:8080/",
          "height": 221
        },
        "id": "FWnGETSjSqFD",
        "outputId": "5e46440a-165c-4fc8-d3db-8861fa4decf6"
      },
      "execution_count": 5,
      "outputs": [
        {
          "output_type": "stream",
          "name": "stdout",
          "text": [
            "Ahora realicemos una prediccion\n"
          ]
        },
        {
          "output_type": "error",
          "ename": "NameError",
          "evalue": "ignored",
          "traceback": [
            "\u001b[0;31m---------------------------------------------------------------------------\u001b[0m",
            "\u001b[0;31mNameError\u001b[0m                                 Traceback (most recent call last)",
            "\u001b[0;32m<ipython-input-5-f2d1d521101a>\u001b[0m in \u001b[0;36m<module>\u001b[0;34m\u001b[0m\n\u001b[1;32m      1\u001b[0m \u001b[0mprint\u001b[0m\u001b[0;34m(\u001b[0m\u001b[0;34m\"Ahora realicemos una prediccion\"\u001b[0m\u001b[0;34m)\u001b[0m\u001b[0;34m\u001b[0m\u001b[0;34m\u001b[0m\u001b[0m\n\u001b[0;32m----> 2\u001b[0;31m \u001b[0mresultado\u001b[0m \u001b[0;34m=\u001b[0m \u001b[0mmodelo\u001b[0m\u001b[0;34m.\u001b[0m\u001b[0mpredict\u001b[0m\u001b[0;34m(\u001b[0m\u001b[0;34m[\u001b[0m\u001b[0;36m100.0\u001b[0m\u001b[0;34m]\u001b[0m\u001b[0;34m)\u001b[0m\u001b[0;34m\u001b[0m\u001b[0;34m\u001b[0m\u001b[0m\n\u001b[0m\u001b[1;32m      3\u001b[0m \u001b[0mprint\u001b[0m\u001b[0;34m(\u001b[0m\u001b[0;34m\"El resultado es \"\u001b[0m\u001b[0;34m,\u001b[0m \u001b[0mresultado\u001b[0m\u001b[0;34m,\u001b[0m\u001b[0;34m\" Fahrenheit\"\u001b[0m\u001b[0;34m)\u001b[0m\u001b[0;34m\u001b[0m\u001b[0;34m\u001b[0m\u001b[0m\n",
            "\u001b[0;31mNameError\u001b[0m: name 'modelo' is not defined"
          ]
        }
      ]
    },
    {
      "cell_type": "markdown",
      "source": [
        "Vemos que el resultado es muy bueno utilizando solo una neurona. Ahora visualicemos como funciona internamente la red"
      ],
      "metadata": {
        "id": "1VD3Y_NZTAHK"
      }
    },
    {
      "cell_type": "code",
      "source": [
        "print(\"variables internas de la red:\")\n",
        "print(capa.get_weights())"
      ],
      "metadata": {
        "colab": {
          "base_uri": "https://localhost:8080/"
        },
        "id": "U2cP_CNHTN3Q",
        "outputId": "6a36cba2-d295-4c2f-c6e8-59aa50687d00"
      },
      "execution_count": 9,
      "outputs": [
        {
          "output_type": "stream",
          "name": "stdout",
          "text": [
            "variables internas de la red:\n",
            "[array([[1.7981755]], dtype=float32), array([31.925934], dtype=float32)]\n"
          ]
        }
      ]
    },
    {
      "cell_type": "markdown",
      "source": [
        "#Mas capas y mas neuronas\n",
        "ahora repetimos el modelo pero mas complejo\n",
        "Agregamos dos capas intermedias con tres neuronas cada una"
      ],
      "metadata": {
        "id": "IlXzlue69Ju6"
      }
    },
    {
      "cell_type": "code",
      "source": [
        "celsius = np.array([-40,-10,0,8,15,22,38], dtype=float)\n",
        "fahren = np.array([-40,14,32,46,59,72,100], dtype=float)"
      ],
      "metadata": {
        "id": "CKZLctaV9hNu"
      },
      "execution_count": 7,
      "outputs": []
    },
    {
      "cell_type": "code",
      "source": [
        "capa_mid1 = tf.keras.layers.Dense(units=3, input_shape=[1])\n",
        "capa_mid2 = tf.keras.layers.Dense(units=3)\n",
        "salida = tf.keras.layers.Dense(units=1)\n",
        "modelo2 = tf.keras.Sequential([capa_mid1,capa_mid2,salida])"
      ],
      "metadata": {
        "id": "7BfDMDZ49h5v"
      },
      "execution_count": 13,
      "outputs": []
    },
    {
      "cell_type": "code",
      "source": [
        "modelo2.compile(\n",
        "    optimizer = tf.keras.optimizers.Adam(0.1),\n",
        "    loss=\"mean_squared_error\")"
      ],
      "metadata": {
        "id": "WR-m2vElANK5"
      },
      "execution_count": 15,
      "outputs": []
    },
    {
      "cell_type": "code",
      "source": [
        "print(\"Comenzamos el entrenamiento del segundo modelo o modelo2\")\n",
        "historial2 = modelo2.fit(celsius,fahren,epochs=1000, verbose=False)\n",
        "print(\"fin de entrenamiento\")"
      ],
      "metadata": {
        "colab": {
          "base_uri": "https://localhost:8080/"
        },
        "id": "0nUNutKLA5tX",
        "outputId": "d5ca1c0f-6de8-4caf-8568-b830a2ed39d0"
      },
      "execution_count": 16,
      "outputs": [
        {
          "output_type": "stream",
          "name": "stdout",
          "text": [
            "Comenzamos el entrenamiento del segundo modelo o modelo2\n",
            "fin de entrenamiento\n"
          ]
        }
      ]
    },
    {
      "cell_type": "code",
      "source": [
        "import matplotlib.pyplot as plt\n",
        "plt.xlabel(\"# Epoca\")\n",
        "plt.ylabel(\"Magnitud de pérdida\")\n",
        "plt.plot(historial2.history[\"loss\"])"
      ],
      "metadata": {
        "colab": {
          "base_uri": "https://localhost:8080/",
          "height": 297
        },
        "id": "hMGgRg8CBCqQ",
        "outputId": "857e80bc-2847-42c7-9446-4ef85e39bc6a"
      },
      "execution_count": 17,
      "outputs": [
        {
          "output_type": "execute_result",
          "data": {
            "text/plain": [
              "[<matplotlib.lines.Line2D at 0x7f2dfae6a6d0>]"
            ]
          },
          "metadata": {},
          "execution_count": 17
        },
        {
          "output_type": "display_data",
          "data": {
            "text/plain": [
              "<Figure size 432x288 with 1 Axes>"
            ],
            "image/png": "[encoded data removed]"
          },
          "metadata": {
            "needs_background": "light"
          }
        }
      ]
    },
    {
      "cell_type": "code",
      "source": [
        "print(\"Ahora realicemos una prediccion con el nuevo modelo\")\n",
        "resultado2 = modelo2.predict([100.0])\n",
        "print(\"El resultado con el modelo2 es \", resultado2,\" Fahrenheit\")"
      ],
      "metadata": {
        "colab": {
          "base_uri": "https://localhost:8080/"
        },
        "id": "1tWzj1xFBZD0",
        "outputId": "ebbb580f-bc43-4e97-e832-616e9a329653"
      },
      "execution_count": 22,
      "outputs": [
        {
          "output_type": "stream",
          "name": "stdout",
          "text": [
            "Ahora realicemos una prediccion con el nuevo modelo\n",
            "El resultado con el modelo2 es  [[211.74744]]  Fahrenheit\n"
          ]
        }
      ]
    },
    {
      "cell_type": "code",
      "source": [
        "print(\"variables internas de la red con mas neuronas:\")\n",
        "print(capa_mid1.get_weights())\n",
        "print(capa_mid2.get_weights())\n",
        "print(salida.get_weights())"
      ],
      "metadata": {
        "colab": {
          "base_uri": "https://localhost:8080/"
        },
        "id": "8vdkJndoBK_E",
        "outputId": "3e761310-67e3-451a-a8e6-4679d9b2f12a"
      },
      "execution_count": 23,
      "outputs": [
        {
          "output_type": "stream",
          "name": "stdout",
          "text": [
            "variables internas de la red con mas neuronas:\n",
            "[array([[-0.04942607, -0.07677821, -0.88267714]], dtype=float32), array([-2.7402384,  3.0872421, -3.754203 ], dtype=float32)]\n",
            "[array([[ 0.11560758,  1.3623307 ,  0.65047365],\n",
            "       [ 0.19346598, -1.0291375 , -1.1515634 ],\n",
            "       [-1.4297376 , -0.05466086,  0.91367865]], dtype=float32), array([ 3.2799656, -3.7620785, -3.993744 ], dtype=float32)]\n",
            "[array([[ 0.9412149 ],\n",
            "       [-0.8038853 ],\n",
            "       [-0.90330136]], dtype=float32), array([3.6075034], dtype=float32)]\n"
          ]
        }
      ]
    },
    {
      "cell_type": "markdown",
      "source": [
        "Vemos que no podemos encontrarle una logica simple a estos valores, como podiamos hacer con las dos neuronas del modelo anterior"
      ],
      "metadata": {
        "id": "R3SJKjWZB1VK"
      }
    }
  ]
}