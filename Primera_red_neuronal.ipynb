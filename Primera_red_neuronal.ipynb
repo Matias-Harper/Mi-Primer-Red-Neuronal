{
  "nbformat": 4,
  "nbformat_minor": 0,
  "metadata": {
    "colab": {
      "provenance": [],
      "authorship_tag": "ABX9TyN4hB+UcoxlVWEMBWk/U39c",
      "include_colab_link": true
    },
    "kernelspec": {
      "name": "python3",
      "display_name": "Python 3"
    },
    "language_info": {
      "name": "python"
    }
  },
  "cells": [
    {
      "cell_type": "markdown",
      "metadata": {
        "id": "view-in-github",
        "colab_type": "text"
      },
      "source": [
        "<a href=\"https://colab.research.google.com/github/Matias-Harper/Mi-Primer-Red-Neuronal/blob/main/Primera_red_neuronal.ipynb\" target=\"_parent\"><img src=\"https://colab.research.google.com/assets/colab-badge.svg\" alt=\"Open In Colab\"/></a>"
      ]
    },
    {
      "cell_type": "markdown",
      "source": [
        "#Primer Red Neuronal\n",
        "Un código simple que muestra dos modelos de red neuronal que nos permita predecir el valor en grados Fahrenheit de temperaturas en grados Celsius     \n",
        "\n",
        "link de doc con mayor detalle: https://docs.google.com/document/d/15V28xwcbBj6dXjSetev0afWn7YXddGSJADRn-UmSTFE/edit?usp=sharing"
      ],
      "metadata": {
        "id": "0rl0YRBxZwd-"
      }
    },
    {
      "cell_type": "code",
      "execution_count": 25,
      "metadata": {
        "id": "9sIKEXgtE0WU"
      },
      "outputs": [],
      "source": [
        "import tensorflow as tf\n",
        "import numpy as np"
      ]
    },
    {
      "cell_type": "markdown",
      "source": [
        "Importamos las librerias necesarias para poder hacer la red neuronal"
      ],
      "metadata": {
        "id": "WiglLPQ6FSjD"
      }
    },
    {
      "cell_type": "code",
      "source": [
        "celsius = np.array([-40,-10,0,8,15,22,38], dtype=float)\n",
        "fahren = np.array([-40,14,32,46,59,72,100], dtype=float)"
      ],
      "metadata": {
        "id": "8AKawEQIE-cq"
      },
      "execution_count": 26,
      "outputs": []
    },
    {
      "cell_type": "code",
      "source": [
        "capa = tf.keras.layers.Dense(units=1, input_shape=[1])\n",
        "modelo = tf.keras.Sequential([capa])"
      ],
      "metadata": {
        "id": "HU20n_dgFtwR"
      },
      "execution_count": 27,
      "outputs": []
    },
    {
      "cell_type": "code",
      "source": [
        "modelo.compile(\n",
        "    optimizer = tf.keras.optimizers.Adam(0.1),\n",
        "    loss=\"mean_squared_error\")"
      ],
      "metadata": {
        "id": "cdIjCCDfLvgb"
      },
      "execution_count": 28,
      "outputs": []
    },
    {
      "cell_type": "code",
      "source": [
        "print(\"Comenzamos el entrenamiento del modelo\")\n",
        "historial = modelo.fit(celsius,fahren,epochs=1000, verbose=False)\n",
        "print(\"fin de entrenamiento\")"
      ],
      "metadata": {
        "colab": {
          "base_uri": "https://localhost:8080/"
        },
        "id": "WkZDZCI9P4nB",
        "outputId": "3fb532aa-ed3a-4b19-9157-3435b01cb62c"
      },
      "execution_count": 29,
      "outputs": [
        {
          "output_type": "stream",
          "name": "stdout",
          "text": [
            "Comenzamos el entrenamiento del modelo\n",
            "fin de entrenamiento\n"
          ]
        }
      ]
    },
    {
      "cell_type": "markdown",
      "source": [
        "Ahora podemos ver el desempeño y caan cerca o lejos se contro en cada intento de los resultados aportados "
      ],
      "metadata": {
        "id": "8kVpIHagSecC"
      }
    },
    {
      "cell_type": "code",
      "source": [
        "import matplotlib.pyplot as plt\n",
        "plt.xlabel(\"# Epoca\")\n",
        "plt.ylabel(\"Magnitud de pérdida\")\n",
        "plt.plot(historial.history[\"loss\"])"
      ],
      "metadata": {
        "colab": {
          "base_uri": "https://localhost:8080/",
          "height": 300
        },
        "id": "YDSzt40zRM5e",
        "outputId": "56182042-f3cc-45a3-f139-b9628afe8069"
      },
      "execution_count": 31,
      "outputs": [
        {
          "output_type": "execute_result",
          "data": {
            "text/plain": [
              "[<matplotlib.lines.Line2D at 0x7f2dfae2f890>]"
            ]
          },
          "metadata": {},
          "execution_count": 31
        },
        {
          "output_type": "display_data",
          "data": {
            "text/plain": [
              "<Figure size 432x288 with 1 Axes>"
            ],
            "image/png": "[encoded data removed]"
          },
          "metadata": {
            "needs_background": "light"
          }
        }
      ]
    },
    {
      "cell_type": "markdown",
      "source": [
        "Timpo de probar el modelo"
      ],
      "metadata": {
        "id": "cUBG68ZOSm1h"
      }
    },
    {
      "cell_type": "code",
      "source": [
        "print(\"Ahora realicemos una prediccion\")\n",
        "resultado = modelo.predict([100.0])\n",
        "print(\"El resultado es \", resultado,\" Fahrenheit\")"
      ],
      "metadata": {
        "colab": {
          "base_uri": "https://localhost:8080/"
        },
        "id": "FWnGETSjSqFD",
        "outputId": "8af34ca0-479e-4dda-8e41-acd5b0116f48"
      },
      "execution_count": 32,
      "outputs": [
        {
          "output_type": "stream",
          "name": "stdout",
          "text": [
            "Ahora realicemos una prediccion\n",
            "El resultado es  [[211.743]]  Fahrenheit\n"
          ]
        }
      ]
    },
    {
      "cell_type": "markdown",
      "source": [
        "Vemos que el resultado es muy bueno utilizando solo una neurona. Ahora visualicemos como funciona internamente la red"
      ],
      "metadata": {
        "id": "1VD3Y_NZTAHK"
      }
    },
    {
      "cell_type": "code",
      "source": [
        "print(\"variables internas de la red:\")\n",
        "print(capa.get_weights())"
      ],
      "metadata": {
        "colab": {
          "base_uri": "https://localhost:8080/"
        },
        "id": "U2cP_CNHTN3Q",
        "outputId": "6a36cba2-d295-4c2f-c6e8-59aa50687d00"
      },
      "execution_count": 9,
      "outputs": [
        {
          "output_type": "stream",
          "name": "stdout",
          "text": [
            "variables internas de la red:\n",
            "[array([[1.7981755]], dtype=float32), array([31.925934], dtype=float32)]\n"
          ]
        }
      ]
    },
    {
      "cell_type": "markdown",
      "source": [
        "#Mas capas y mas neuronas\n",
        "ahora repetimos el modelo pero mas complejo\n",
        "Agregamos dos capas intermedias con tres neuronas cada una"
      ],
      "metadata": {
        "id": "IlXzlue69Ju6"
      }
    },
    {
      "cell_type": "code",
      "source": [
        "celsius = np.array([-40,-10,0,8,15,22,38], dtype=float)\n",
        "fahren = np.array([-40,14,32,46,59,72,100], dtype=float)"
      ],
      "metadata": {
        "id": "CKZLctaV9hNu"
      },
      "execution_count": 33,
      "outputs": []
    },
    {
      "cell_type": "code",
      "source": [
        "capa_mid1 = tf.keras.layers.Dense(units=3, input_shape=[1])\n",
        "capa_mid2 = tf.keras.layers.Dense(units=3)\n",
        "salida = tf.keras.layers.Dense(units=1)\n",
        "modelo2 = tf.keras.Sequential([capa_mid1,capa_mid2,salida])"
      ],
      "metadata": {
        "id": "7BfDMDZ49h5v"
      },
      "execution_count": 34,
      "outputs": []
    },
    {
      "cell_type": "code",
      "source": [
        "modelo2.compile(\n",
        "    optimizer = tf.keras.optimizers.Adam(0.1),\n",
        "    loss=\"mean_squared_error\")"
      ],
      "metadata": {
        "id": "WR-m2vElANK5"
      },
      "execution_count": 35,
      "outputs": []
    },
    {
      "cell_type": "code",
      "source": [
        "print(\"Comenzamos el entrenamiento del segundo modelo o modelo2\")\n",
        "historial2 = modelo2.fit(celsius,fahren,epochs=1000, verbose=False)\n",
        "print(\"fin de entrenamiento\")"
      ],
      "metadata": {
        "colab": {
          "base_uri": "https://localhost:8080/"
        },
        "id": "0nUNutKLA5tX",
        "outputId": "1faca6bf-e837-4fe2-cc17-70bbf75db03f"
      },
      "execution_count": 36,
      "outputs": [
        {
          "output_type": "stream",
          "name": "stdout",
          "text": [
            "Comenzamos el entrenamiento del segundo modelo o modelo2\n",
            "fin de entrenamiento\n"
          ]
        }
      ]
    },
    {
      "cell_type": "code",
      "source": [
        "import matplotlib.pyplot as plt\n",
        "plt.xlabel(\"# Epoca\")\n",
        "plt.ylabel(\"Magnitud de pérdida\")\n",
        "plt.plot(historial2.history[\"loss\"])"
      ],
      "metadata": {
        "colab": {
          "base_uri": "https://localhost:8080/",
          "height": 297
        },
        "id": "hMGgRg8CBCqQ",
        "outputId": "43e4b1de-3082-4234-e236-4d99d1e3c257"
      },
      "execution_count": 37,
      "outputs": [
        {
          "output_type": "execute_result",
          "data": {
            "text/plain": [
              "[<matplotlib.lines.Line2D at 0x7f2dfac05850>]"
            ]
          },
          "metadata": {},
          "execution_count": 37
        },
        {
          "output_type": "display_data",
          "data": {
            "text/plain": [
              "<Figure size 432x288 with 1 Axes>"
            ],
            "image/png": "[encoded data removed]"
          },
          "metadata": {
            "needs_background": "light"
          }
        }
      ]
    },
    {
      "cell_type": "code",
      "source": [
        "print(\"Ahora realicemos una prediccion con el nuevo modelo\")\n",
        "resultado2 = modelo2.predict([100.0])\n",
        "print(\"El resultado con el modelo2 es \", resultado2,\" Fahrenheit\")"
      ],
      "metadata": {
        "colab": {
          "base_uri": "https://localhost:8080/"
        },
        "id": "1tWzj1xFBZD0",
        "outputId": "67f11108-1c6b-4eb7-dcdc-31a283ffaf32"
      },
      "execution_count": 38,
      "outputs": [
        {
          "output_type": "stream",
          "name": "stdout",
          "text": [
            "Ahora realicemos una prediccion con el nuevo modelo\n",
            "El resultado con el modelo2 es  [[211.74744]]  Fahrenheit\n"
          ]
        }
      ]
    },
    {
      "cell_type": "code",
      "source": [
        "print(\"variables internas de la red con mas neuronas:\")\n",
        "print(capa_mid1.get_weights())\n",
        "print(capa_mid2.get_weights())\n",
        "print(salida.get_weights())"
      ],
      "metadata": {
        "colab": {
          "base_uri": "https://localhost:8080/"
        },
        "id": "8vdkJndoBK_E",
        "outputId": "e34dbd90-e9ae-4ad0-c6a5-9eefde1ca888"
      },
      "execution_count": 39,
      "outputs": [
        {
          "output_type": "stream",
          "name": "stdout",
          "text": [
            "variables internas de la red con mas neuronas:\n",
            "[array([[ 0.5138823 , -0.4379657 , -0.04693897]], dtype=float32), array([ 4.051219 , -4.0629106, -3.720157 ], dtype=float32)]\n",
            "[array([[-0.70207757,  0.841783  , -0.18701126],\n",
            "       [-0.22695976, -1.409893  , -0.5868672 ],\n",
            "       [-0.07241105, -0.7887267 ,  0.39306965]], dtype=float32), array([-3.6795304,  4.0291133,  2.028213 ], dtype=float32)]\n",
            "[array([[-0.94481575],\n",
            "       [ 1.4116579 ],\n",
            "       [ 0.13763168]], dtype=float32), array([3.8824387], dtype=float32)]\n"
          ]
        }
      ]
    },
    {
      "cell_type": "markdown",
      "source": [
        "Vemos que no podemos encontrarle una logica simple a estos valores, como podiamos hacer con las dos neuronas del modelo anterior"
      ],
      "metadata": {
        "id": "R3SJKjWZB1VK"
      }
    }
  ]
}